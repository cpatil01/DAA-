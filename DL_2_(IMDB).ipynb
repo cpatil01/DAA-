{
 "cells": [
  {
   "cell_type": "code",
   "execution_count": 1,
   "id": "0e8946b6",
   "metadata": {},
   "outputs": [
    {
     "name": "stdout",
     "output_type": "stream",
     "text": [
      "Downloading data from https://storage.googleapis.com/tensorflow/tf-keras-datasets/imdb.npz\n",
      "17464789/17464789 [==============================] - 6s 0us/step\n",
      "Epoch 1/3\n",
      "391/391 [==============================] - 281s 714ms/step - loss: 0.4798 - accuracy: 0.7530 - val_loss: 0.3464 - val_accuracy: 0.8543\n",
      "Epoch 2/3\n",
      "391/391 [==============================] - 417s 1s/step - loss: 0.3027 - accuracy: 0.8790 - val_loss: 0.3365 - val_accuracy: 0.8567\n",
      "Epoch 3/3\n",
      "391/391 [==============================] - 474s 1s/step - loss: 0.2585 - accuracy: 0.8983 - val_loss: 0.3365 - val_accuracy: 0.8616\n",
      "Accuracy: 86.16%\n"
     ]
    }
   ],
   "source": [
    "import numpy as np\n",
    "from tensorflow.keras.datasets import imdb\n",
    "from tensorflow.keras.models import Sequential\n",
    "from tensorflow.keras.layers import Dense, Embedding, LSTM, Dropout\n",
    "from tensorflow.keras.preprocessing import sequence\n",
    "\n",
    "# Set the maximum number of words to consider in the vocabulary\n",
    "max_words = 5000\n",
    "\n",
    "# Load the IMDb dataset\n",
    "(X_train, y_train), (X_test, y_test) = imdb.load_data(num_words=max_words)\n",
    "\n",
    "# Pad sequences to a maximum length of 500 words\n",
    "max_length = 500\n",
    "X_train = sequence.pad_sequences(X_train, maxlen=max_length)\n",
    "X_test = sequence.pad_sequences(X_test, maxlen=max_length)\n",
    "\n",
    "# Build the model\n",
    "model = Sequential()\n",
    "model.add(Embedding(max_words, 32, input_length=max_length))\n",
    "model.add(LSTM(100, dropout=0.2, recurrent_dropout=0.2))\n",
    "model.add(Dense(64, activation='relu'))\n",
    "model.add(Dropout(0.5))\n",
    "model.add(Dense(1, activation='sigmoid'))\n",
    "\n",
    "# Compile the model\n",
    "model.compile(loss='binary_crossentropy', optimizer='adam', metrics=['accuracy'])\n",
    "\n",
    "# Train the model\n",
    "batch_size = 64\n",
    "epochs = 3\n",
    "model.fit(X_train, y_train, batch_size=batch_size, epochs=epochs, validation_data=(X_test, y_test))\n",
    "\n",
    "# Evaluate the model\n",
    "scores = model.evaluate(X_test, y_test, verbose=0)\n",
    "print(\"Accuracy: %.2f%%\" % (scores[1] * 100))\n",
    "\n",
    "# Example input\n",
    "review = \"This movie was worst! I hated every moment of it.\"\n",
    "\n",
    "# Convert the input review to a sequence of word indices\n",
    "word_to_index = imdb.get_word_index()\n",
    "review = review.lower().split()\n",
    "review_indices = [word_to_index[word] if word in word_to_index and word_to_index[word] < max_words else 0 for word in review]\n",
    "\n",
    "# Pad the review sequence\n",
    "review_indices = sequence.pad_sequences([review_indices], maxlen=max_length)\n",
    "\n",
    "# Predict the sentiment of the review\n",
    "prediction = model.predict(review_indices)[0][0]\n",
    "sentiment = \"Positive\" if prediction >= 0.5 else \"Negative\"\n",
    "\n",
    "print(\"Review: \", review)\n",
    "print(\"Sentiment: \", sentiment)"
   ]
  },
  {
   "cell_type": "code",
   "execution_count": null,
   "id": "95f57661",
   "metadata": {},
   "outputs": [],
   "source": []
  }
 ],
 "metadata": {
  "kernelspec": {
   "display_name": "Python 3",
   "language": "python",
   "name": "python3"
  },
  "language_info": {
   "codemirror_mode": {
    "name": "ipython",
    "version": 3
   },
   "file_extension": ".py",
   "mimetype": "text/x-python",
   "name": "python",
   "nbconvert_exporter": "python",
   "pygments_lexer": "ipython3",
   "version": "3.7.16"
  }
 },
 "nbformat": 4,
 "nbformat_minor": 5
}
