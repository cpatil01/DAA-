{
  "nbformat": 4,
  "nbformat_minor": 0,
  "metadata": {
    "colab": {
      "provenance": [],
      "authorship_tag": "ABX9TyOB8HbfDnPh9hUESMixy+u7",
      "include_colab_link": true
    },
    "kernelspec": {
      "name": "python3",
      "display_name": "Python 3"
    },
    "language_info": {
      "name": "python"
    }
  },
  "cells": [
    {
      "cell_type": "markdown",
      "metadata": {
        "id": "view-in-github",
        "colab_type": "text"
      },
      "source": [
        "<a href=\"https://colab.research.google.com/github/cpatil01/DAA-/blob/main/daa.ipynb\" target=\"_parent\"><img src=\"https://colab.research.google.com/assets/colab-badge.svg\" alt=\"Open In Colab\"/></a>"
      ]
    },
    {
      "cell_type": "code",
      "execution_count": 1,
      "metadata": {
        "colab": {
          "base_uri": "https://localhost:8080/"
        },
        "id": "qMXffVfOBGLR",
        "outputId": "c4097e99-5f11-4619-a053-722bf75d3d90"
      },
      "outputs": [
        {
          "output_type": "stream",
          "name": "stdout",
          "text": [
            " Char | Huffman code \n",
            "----------------------\n",
            " 'C'  |           0\n",
            " 'A'  |          11\n",
            " 'D'  |         101\n",
            " 'B'  |         100\n"
          ]
        }
      ],
      "source": [
        "# Huffman Coding in python\n",
        "\n",
        "string = 'BCAADDDCCACACAC'\n",
        "\n",
        "\n",
        "# Creating tree nodes\n",
        "class NodeTree(object):\n",
        "\n",
        "    def __init__(self, left=None, right=None):\n",
        "        self.left = left\n",
        "        self.right = right\n",
        "\n",
        "    def children(self):\n",
        "        return (self.left, self.right)\n",
        "\n",
        "    def nodes(self):\n",
        "        return (self.left, self.right)\n",
        "\n",
        "    def __str__(self):\n",
        "        return '%s_%s' % (self.left, self.right)\n",
        "\n",
        "\n",
        "# Main function implementing huffman coding\n",
        "def huffman_code_tree(node, left=True, binString=''):\n",
        "    if type(node) is str:\n",
        "        return {node: binString}\n",
        "    (l, r) = node.children()\n",
        "    d = dict()\n",
        "    d.update(huffman_code_tree(l, True, binString + '0'))\n",
        "    d.update(huffman_code_tree(r, False, binString + '1'))\n",
        "    return d\n",
        "\n",
        "\n",
        "# Calculating frequency\n",
        "freq = {}\n",
        "for c in string:\n",
        "    if c in freq:\n",
        "        freq[c] += 1\n",
        "    else:\n",
        "        freq[c] = 1\n",
        "\n",
        "freq = sorted(freq.items(), key=lambda x: x[1], reverse=True)\n",
        "\n",
        "nodes = freq\n",
        "\n",
        "while len(nodes) > 1:\n",
        "    (key1, c1) = nodes[-1]\n",
        "    (key2, c2) = nodes[-2]\n",
        "    nodes = nodes[:-2]\n",
        "    node = NodeTree(key1, key2)\n",
        "    nodes.append((node, c1 + c2))\n",
        "\n",
        "    nodes = sorted(nodes, key=lambda x: x[1], reverse=True)\n",
        "\n",
        "huffmanCode = huffman_code_tree(nodes[0][0])\n",
        "\n",
        "print(' Char | Huffman code ')\n",
        "print('----------------------')\n",
        "for (char, frequency) in freq:\n",
        "    print(' %-4r |%12s' % (char, huffmanCode[char]))"
      ]
    },
    {
      "cell_type": "code",
      "source": [
        "def knapSack(W, wt, val, n):\n",
        "    # initial conditions\n",
        "    if n == 0 or W == 0 :\n",
        "       return 0\n",
        "    # If weight is higher than capacity then it is not included\n",
        "    if (wt[n-1] > W):\n",
        "       return knapSack(W, wt, val, n-1)\n",
        "    # return either nth item being included or not\n",
        "    else:\n",
        "       return max(val[n-1] + knapSack(W-wt[n-1], wt, val, n-1),\n",
        "          knapSack(W, wt, val, n-1))\n",
        " # To test above function\n",
        "val = [60, 100, 120]\n",
        "wt = [10, 20, 30]\n",
        "W = 50\n",
        "n = len(val)\n",
        "print (knapSack(W,wt,val,n))"
      ],
      "metadata": {
        "colab": {
          "base_uri": "https://localhost:8080/"
        },
        "id": "qzyROFaLBROK",
        "outputId": "1ec81c1a-90ae-41d9-99ac-0da2e4293eee"
      },
      "execution_count": 2,
      "outputs": [
        {
          "output_type": "stream",
          "name": "stdout",
          "text": [
            "220\n"
          ]
        }
      ]
    },
    {
      "cell_type": "code",
      "source": [
        "n = int(input(\"Enter the value of n\"))\n",
        "board = []\n",
        "\n",
        "def getBoard():\n",
        "    for i in range(n):\n",
        "        nthList = []\n",
        "        for j in range(n):\n",
        "            nthList.append(0)\n",
        "        board.append(nthList)\n",
        "\n",
        "def printBoard():\n",
        "    for i in range(n):\n",
        "        for j in range(n):\n",
        "            print(board[i][j], end = \" \")\n",
        "        print(\"\")\n",
        "        \n",
        "def isSafe(row, col):\n",
        "    for i in range(n):\n",
        "        if board[row][i] == 1:\n",
        "            return False\n",
        "    for j in range(n):\n",
        "        if board[j][col] == 1:\n",
        "            return False\n",
        "        \n",
        "    i = row-1\n",
        "    j = col-1\n",
        "    while(i>=0 and j>=0):\n",
        "        if board[i][j] == 1:\n",
        "            return False\n",
        "        i = i-1\n",
        "        j = j-1\n",
        "\n",
        "    i = row-1\n",
        "    j = col+1\n",
        "    while(i>=0 and j<n):\n",
        "        if board[i][j] == 1:\n",
        "            return False\n",
        "        i = i-1\n",
        "        j = j+1\n",
        "\n",
        "    i = row+1\n",
        "    j = col-1\n",
        "    while(i<n and j>=0):\n",
        "        if board[i][j] == 1:\n",
        "            return False\n",
        "        i = i+1\n",
        "        j = j-1\n",
        "\n",
        "    i = row+1\n",
        "    j = col+1\n",
        "    while(i<n and j<n):\n",
        "        if board[i][j] == 1:\n",
        "            return False\n",
        "        i = i+1\n",
        "        j = j+1\n",
        "    return True\n",
        "\n",
        "def Put(n, count):\n",
        "    if count == n:\n",
        "        return True\n",
        "    for i in range(n):\n",
        "        for j in range(n):\n",
        "            if isSafe(i, j):\n",
        "                board[i][j] = 1\n",
        "                count = count+1\n",
        "                if Put(n, count) == True:\n",
        "                    return True\n",
        "                board[i][j] = 0\n",
        "                count = count-1\n",
        "    return False\n",
        "\n",
        "getBoard()\n",
        "Put(n, 0)\n",
        "printBoard()"
      ],
      "metadata": {
        "colab": {
          "base_uri": "https://localhost:8080/"
        },
        "id": "o89r0mRiBXOO",
        "outputId": "38cb6daf-ea3d-432a-c935-5863eb066f39"
      },
      "execution_count": 5,
      "outputs": [
        {
          "output_type": "stream",
          "name": "stdout",
          "text": [
            "Enter the value of n9\n",
            "1 0 0 0 0 0 0 0 0 \n",
            "0 0 1 0 0 0 0 0 0 \n",
            "0 0 0 0 0 1 0 0 0 \n",
            "0 0 0 0 0 0 0 1 0 \n",
            "0 1 0 0 0 0 0 0 0 \n",
            "0 0 0 1 0 0 0 0 0 \n",
            "0 0 0 0 0 0 0 0 1 \n",
            "0 0 0 0 0 0 1 0 0 \n",
            "0 0 0 0 1 0 0 0 0 \n"
          ]
        }
      ]
    },
    {
      "cell_type": "code",
      "source": [
        "# Structure for an item which stores weight and\n",
        "# corresponding value of Item\n",
        "class Item:\n",
        "\tdef __init__(self, value, weight):\n",
        "\t\tself.value = value\n",
        "\t\tself.weight = weight\n",
        "\n",
        "# Main greedy function to solve problem\n",
        "def fractionalKnapsack(W, arr):\n",
        "\n",
        "\t# Sorting Item on basis of ratio\n",
        "\tarr.sort(key=lambda x: (x.value/x.weight), reverse=True)\n",
        "\n",
        "\t# Result(value in Knapsack)\n",
        "\tfinalvalue = 0.0\n",
        "\n",
        "\t# Looping through all Items\n",
        "\tfor item in arr:\n",
        "\n",
        "\t\t# If adding Item won't overflow,\n",
        "\t\t# add it completely\n",
        "\t\tif item.weight <= W:\n",
        "\t\t\tW -= item.weight\n",
        "\t\t\tfinalvalue += item.value\n",
        "\n",
        "\t\t# If we can't add current Item,\n",
        "\t\t# add fractional part of it\n",
        "\t\telse:\n",
        "\t\t\tfinalvalue += item.value * W / item.weight\n",
        "\t\t\tbreak\n",
        "\t\n",
        "\t# Returning final value\n",
        "\treturn finalvalue\n",
        "\n",
        "\n",
        "# Driver Code\n",
        "if __name__ == \"__main__\":\n",
        "\n",
        "\tW = 50\n",
        "\tarr = [Item(60, 10), Item(100, 20), Item(120, 30)]\n",
        "\n",
        "\t# Function call\n",
        "\tmax_val = fractionalKnapsack(W, arr)\n",
        "\tprint(max_val)\n"
      ],
      "metadata": {
        "colab": {
          "base_uri": "https://localhost:8080/"
        },
        "id": "ZUzpwaWBB42x",
        "outputId": "adf69d7b-658e-4700-c16c-ecf1854a6bce"
      },
      "execution_count": 6,
      "outputs": [
        {
          "output_type": "stream",
          "name": "stdout",
          "text": [
            "240.0\n"
          ]
        }
      ]
    }
  ]
}