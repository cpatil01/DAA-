{
  "cells": [
    {
      "cell_type": "markdown",
      "metadata": {
        "id": "view-in-github",
        "colab_type": "text"
      },
      "source": [
        "<a href=\"https://colab.research.google.com/github/cpatil01/DAA-/blob/main/mlAssi1.ipynb\" target=\"_parent\"><img src=\"https://colab.research.google.com/assets/colab-badge.svg\" alt=\"Open In Colab\"/></a>"
      ]
    },
    {
      "cell_type": "code",
      "execution_count": 1,
      "id": "4625d50a",
      "metadata": {
        "id": "4625d50a"
      },
      "outputs": [],
      "source": [
        "import pandas as pd\n",
        "import numpy as np \n",
        "import matplotlib.pyplot as plt\n",
        "import seaborn as sns"
      ]
    },
    {
      "cell_type": "code",
      "execution_count": 3,
      "id": "d2ebb283",
      "metadata": {
        "id": "d2ebb283",
        "colab": {
          "base_uri": "https://localhost:8080/",
          "height": 328
        },
        "outputId": "4ea4e26e-86b5-4a39-8c02-cd7e22147d81"
      },
      "outputs": [
        {
          "output_type": "error",
          "ename": "FileNotFoundError",
          "evalue": "ignored",
          "traceback": [
            "\u001b[0;31m---------------------------------------------------------------------------\u001b[0m",
            "\u001b[0;31mFileNotFoundError\u001b[0m                         Traceback (most recent call last)",
            "\u001b[0;32m<ipython-input-3-cfb129c1f80f>\u001b[0m in \u001b[0;36m<module>\u001b[0;34m\u001b[0m\n\u001b[0;32m----> 1\u001b[0;31m \u001b[0mdf\u001b[0m\u001b[0;34m=\u001b[0m\u001b[0mpd\u001b[0m\u001b[0;34m.\u001b[0m\u001b[0mread_csv\u001b[0m\u001b[0;34m(\u001b[0m\u001b[0;34mr'C:\\Users\\cheta\\Dropbox\\PC\\Downloads\\uber.csv'\u001b[0m\u001b[0;34m)\u001b[0m\u001b[0;34m\u001b[0m\u001b[0;34m\u001b[0m\u001b[0m\n\u001b[0m\u001b[1;32m      2\u001b[0m \u001b[0mdf\u001b[0m\u001b[0;34m.\u001b[0m\u001b[0mhead\u001b[0m\u001b[0;34m(\u001b[0m\u001b[0;34m)\u001b[0m\u001b[0;34m\u001b[0m\u001b[0;34m\u001b[0m\u001b[0m\n",
            "\u001b[0;32m/usr/local/lib/python3.7/dist-packages/pandas/util/_decorators.py\u001b[0m in \u001b[0;36mwrapper\u001b[0;34m(*args, **kwargs)\u001b[0m\n\u001b[1;32m    309\u001b[0m                     \u001b[0mstacklevel\u001b[0m\u001b[0;34m=\u001b[0m\u001b[0mstacklevel\u001b[0m\u001b[0;34m,\u001b[0m\u001b[0;34m\u001b[0m\u001b[0;34m\u001b[0m\u001b[0m\n\u001b[1;32m    310\u001b[0m                 )\n\u001b[0;32m--> 311\u001b[0;31m             \u001b[0;32mreturn\u001b[0m \u001b[0mfunc\u001b[0m\u001b[0;34m(\u001b[0m\u001b[0;34m*\u001b[0m\u001b[0margs\u001b[0m\u001b[0;34m,\u001b[0m \u001b[0;34m**\u001b[0m\u001b[0mkwargs\u001b[0m\u001b[0;34m)\u001b[0m\u001b[0;34m\u001b[0m\u001b[0;34m\u001b[0m\u001b[0m\n\u001b[0m\u001b[1;32m    312\u001b[0m \u001b[0;34m\u001b[0m\u001b[0m\n\u001b[1;32m    313\u001b[0m         \u001b[0;32mreturn\u001b[0m \u001b[0mwrapper\u001b[0m\u001b[0;34m\u001b[0m\u001b[0;34m\u001b[0m\u001b[0m\n",
            "\u001b[0;32m/usr/local/lib/python3.7/dist-packages/pandas/io/parsers/readers.py\u001b[0m in \u001b[0;36mread_csv\u001b[0;34m(filepath_or_buffer, sep, delimiter, header, names, index_col, usecols, squeeze, prefix, mangle_dupe_cols, dtype, engine, converters, true_values, false_values, skipinitialspace, skiprows, skipfooter, nrows, na_values, keep_default_na, na_filter, verbose, skip_blank_lines, parse_dates, infer_datetime_format, keep_date_col, date_parser, dayfirst, cache_dates, iterator, chunksize, compression, thousands, decimal, lineterminator, quotechar, quoting, doublequote, escapechar, comment, encoding, encoding_errors, dialect, error_bad_lines, warn_bad_lines, on_bad_lines, delim_whitespace, low_memory, memory_map, float_precision, storage_options)\u001b[0m\n\u001b[1;32m    584\u001b[0m     \u001b[0mkwds\u001b[0m\u001b[0;34m.\u001b[0m\u001b[0mupdate\u001b[0m\u001b[0;34m(\u001b[0m\u001b[0mkwds_defaults\u001b[0m\u001b[0;34m)\u001b[0m\u001b[0;34m\u001b[0m\u001b[0;34m\u001b[0m\u001b[0m\n\u001b[1;32m    585\u001b[0m \u001b[0;34m\u001b[0m\u001b[0m\n\u001b[0;32m--> 586\u001b[0;31m     \u001b[0;32mreturn\u001b[0m \u001b[0m_read\u001b[0m\u001b[0;34m(\u001b[0m\u001b[0mfilepath_or_buffer\u001b[0m\u001b[0;34m,\u001b[0m \u001b[0mkwds\u001b[0m\u001b[0;34m)\u001b[0m\u001b[0;34m\u001b[0m\u001b[0;34m\u001b[0m\u001b[0m\n\u001b[0m\u001b[1;32m    587\u001b[0m \u001b[0;34m\u001b[0m\u001b[0m\n\u001b[1;32m    588\u001b[0m \u001b[0;34m\u001b[0m\u001b[0m\n",
            "\u001b[0;32m/usr/local/lib/python3.7/dist-packages/pandas/io/parsers/readers.py\u001b[0m in \u001b[0;36m_read\u001b[0;34m(filepath_or_buffer, kwds)\u001b[0m\n\u001b[1;32m    480\u001b[0m \u001b[0;34m\u001b[0m\u001b[0m\n\u001b[1;32m    481\u001b[0m     \u001b[0;31m# Create the parser.\u001b[0m\u001b[0;34m\u001b[0m\u001b[0;34m\u001b[0m\u001b[0;34m\u001b[0m\u001b[0m\n\u001b[0;32m--> 482\u001b[0;31m     \u001b[0mparser\u001b[0m \u001b[0;34m=\u001b[0m \u001b[0mTextFileReader\u001b[0m\u001b[0;34m(\u001b[0m\u001b[0mfilepath_or_buffer\u001b[0m\u001b[0;34m,\u001b[0m \u001b[0;34m**\u001b[0m\u001b[0mkwds\u001b[0m\u001b[0;34m)\u001b[0m\u001b[0;34m\u001b[0m\u001b[0;34m\u001b[0m\u001b[0m\n\u001b[0m\u001b[1;32m    483\u001b[0m \u001b[0;34m\u001b[0m\u001b[0m\n\u001b[1;32m    484\u001b[0m     \u001b[0;32mif\u001b[0m \u001b[0mchunksize\u001b[0m \u001b[0;32mor\u001b[0m \u001b[0miterator\u001b[0m\u001b[0;34m:\u001b[0m\u001b[0;34m\u001b[0m\u001b[0;34m\u001b[0m\u001b[0m\n",
            "\u001b[0;32m/usr/local/lib/python3.7/dist-packages/pandas/io/parsers/readers.py\u001b[0m in \u001b[0;36m__init__\u001b[0;34m(self, f, engine, **kwds)\u001b[0m\n\u001b[1;32m    809\u001b[0m             \u001b[0mself\u001b[0m\u001b[0;34m.\u001b[0m\u001b[0moptions\u001b[0m\u001b[0;34m[\u001b[0m\u001b[0;34m\"has_index_names\"\u001b[0m\u001b[0;34m]\u001b[0m \u001b[0;34m=\u001b[0m \u001b[0mkwds\u001b[0m\u001b[0;34m[\u001b[0m\u001b[0;34m\"has_index_names\"\u001b[0m\u001b[0;34m]\u001b[0m\u001b[0;34m\u001b[0m\u001b[0;34m\u001b[0m\u001b[0m\n\u001b[1;32m    810\u001b[0m \u001b[0;34m\u001b[0m\u001b[0m\n\u001b[0;32m--> 811\u001b[0;31m         \u001b[0mself\u001b[0m\u001b[0;34m.\u001b[0m\u001b[0m_engine\u001b[0m \u001b[0;34m=\u001b[0m \u001b[0mself\u001b[0m\u001b[0;34m.\u001b[0m\u001b[0m_make_engine\u001b[0m\u001b[0;34m(\u001b[0m\u001b[0mself\u001b[0m\u001b[0;34m.\u001b[0m\u001b[0mengine\u001b[0m\u001b[0;34m)\u001b[0m\u001b[0;34m\u001b[0m\u001b[0;34m\u001b[0m\u001b[0m\n\u001b[0m\u001b[1;32m    812\u001b[0m \u001b[0;34m\u001b[0m\u001b[0m\n\u001b[1;32m    813\u001b[0m     \u001b[0;32mdef\u001b[0m \u001b[0mclose\u001b[0m\u001b[0;34m(\u001b[0m\u001b[0mself\u001b[0m\u001b[0;34m)\u001b[0m\u001b[0;34m:\u001b[0m\u001b[0;34m\u001b[0m\u001b[0;34m\u001b[0m\u001b[0m\n",
            "\u001b[0;32m/usr/local/lib/python3.7/dist-packages/pandas/io/parsers/readers.py\u001b[0m in \u001b[0;36m_make_engine\u001b[0;34m(self, engine)\u001b[0m\n\u001b[1;32m   1038\u001b[0m             )\n\u001b[1;32m   1039\u001b[0m         \u001b[0;31m# error: Too many arguments for \"ParserBase\"\u001b[0m\u001b[0;34m\u001b[0m\u001b[0;34m\u001b[0m\u001b[0;34m\u001b[0m\u001b[0m\n\u001b[0;32m-> 1040\u001b[0;31m         \u001b[0;32mreturn\u001b[0m \u001b[0mmapping\u001b[0m\u001b[0;34m[\u001b[0m\u001b[0mengine\u001b[0m\u001b[0;34m]\u001b[0m\u001b[0;34m(\u001b[0m\u001b[0mself\u001b[0m\u001b[0;34m.\u001b[0m\u001b[0mf\u001b[0m\u001b[0;34m,\u001b[0m \u001b[0;34m**\u001b[0m\u001b[0mself\u001b[0m\u001b[0;34m.\u001b[0m\u001b[0moptions\u001b[0m\u001b[0;34m)\u001b[0m  \u001b[0;31m# type: ignore[call-arg]\u001b[0m\u001b[0;34m\u001b[0m\u001b[0;34m\u001b[0m\u001b[0m\n\u001b[0m\u001b[1;32m   1041\u001b[0m \u001b[0;34m\u001b[0m\u001b[0m\n\u001b[1;32m   1042\u001b[0m     \u001b[0;32mdef\u001b[0m \u001b[0m_failover_to_python\u001b[0m\u001b[0;34m(\u001b[0m\u001b[0mself\u001b[0m\u001b[0;34m)\u001b[0m\u001b[0;34m:\u001b[0m\u001b[0;34m\u001b[0m\u001b[0;34m\u001b[0m\u001b[0m\n",
            "\u001b[0;32m/usr/local/lib/python3.7/dist-packages/pandas/io/parsers/c_parser_wrapper.py\u001b[0m in \u001b[0;36m__init__\u001b[0;34m(self, src, **kwds)\u001b[0m\n\u001b[1;32m     49\u001b[0m \u001b[0;34m\u001b[0m\u001b[0m\n\u001b[1;32m     50\u001b[0m         \u001b[0;31m# open handles\u001b[0m\u001b[0;34m\u001b[0m\u001b[0;34m\u001b[0m\u001b[0;34m\u001b[0m\u001b[0m\n\u001b[0;32m---> 51\u001b[0;31m         \u001b[0mself\u001b[0m\u001b[0;34m.\u001b[0m\u001b[0m_open_handles\u001b[0m\u001b[0;34m(\u001b[0m\u001b[0msrc\u001b[0m\u001b[0;34m,\u001b[0m \u001b[0mkwds\u001b[0m\u001b[0;34m)\u001b[0m\u001b[0;34m\u001b[0m\u001b[0;34m\u001b[0m\u001b[0m\n\u001b[0m\u001b[1;32m     52\u001b[0m         \u001b[0;32massert\u001b[0m \u001b[0mself\u001b[0m\u001b[0;34m.\u001b[0m\u001b[0mhandles\u001b[0m \u001b[0;32mis\u001b[0m \u001b[0;32mnot\u001b[0m \u001b[0;32mNone\u001b[0m\u001b[0;34m\u001b[0m\u001b[0;34m\u001b[0m\u001b[0m\n\u001b[1;32m     53\u001b[0m \u001b[0;34m\u001b[0m\u001b[0m\n",
            "\u001b[0;32m/usr/local/lib/python3.7/dist-packages/pandas/io/parsers/base_parser.py\u001b[0m in \u001b[0;36m_open_handles\u001b[0;34m(self, src, kwds)\u001b[0m\n\u001b[1;32m    227\u001b[0m             \u001b[0mmemory_map\u001b[0m\u001b[0;34m=\u001b[0m\u001b[0mkwds\u001b[0m\u001b[0;34m.\u001b[0m\u001b[0mget\u001b[0m\u001b[0;34m(\u001b[0m\u001b[0;34m\"memory_map\"\u001b[0m\u001b[0;34m,\u001b[0m \u001b[0;32mFalse\u001b[0m\u001b[0;34m)\u001b[0m\u001b[0;34m,\u001b[0m\u001b[0;34m\u001b[0m\u001b[0;34m\u001b[0m\u001b[0m\n\u001b[1;32m    228\u001b[0m             \u001b[0mstorage_options\u001b[0m\u001b[0;34m=\u001b[0m\u001b[0mkwds\u001b[0m\u001b[0;34m.\u001b[0m\u001b[0mget\u001b[0m\u001b[0;34m(\u001b[0m\u001b[0;34m\"storage_options\"\u001b[0m\u001b[0;34m,\u001b[0m \u001b[0;32mNone\u001b[0m\u001b[0;34m)\u001b[0m\u001b[0;34m,\u001b[0m\u001b[0;34m\u001b[0m\u001b[0;34m\u001b[0m\u001b[0m\n\u001b[0;32m--> 229\u001b[0;31m             \u001b[0merrors\u001b[0m\u001b[0;34m=\u001b[0m\u001b[0mkwds\u001b[0m\u001b[0;34m.\u001b[0m\u001b[0mget\u001b[0m\u001b[0;34m(\u001b[0m\u001b[0;34m\"encoding_errors\"\u001b[0m\u001b[0;34m,\u001b[0m \u001b[0;34m\"strict\"\u001b[0m\u001b[0;34m)\u001b[0m\u001b[0;34m,\u001b[0m\u001b[0;34m\u001b[0m\u001b[0;34m\u001b[0m\u001b[0m\n\u001b[0m\u001b[1;32m    230\u001b[0m         )\n\u001b[1;32m    231\u001b[0m \u001b[0;34m\u001b[0m\u001b[0m\n",
            "\u001b[0;32m/usr/local/lib/python3.7/dist-packages/pandas/io/common.py\u001b[0m in \u001b[0;36mget_handle\u001b[0;34m(path_or_buf, mode, encoding, compression, memory_map, is_text, errors, storage_options)\u001b[0m\n\u001b[1;32m    705\u001b[0m                 \u001b[0mencoding\u001b[0m\u001b[0;34m=\u001b[0m\u001b[0mioargs\u001b[0m\u001b[0;34m.\u001b[0m\u001b[0mencoding\u001b[0m\u001b[0;34m,\u001b[0m\u001b[0;34m\u001b[0m\u001b[0;34m\u001b[0m\u001b[0m\n\u001b[1;32m    706\u001b[0m                 \u001b[0merrors\u001b[0m\u001b[0;34m=\u001b[0m\u001b[0merrors\u001b[0m\u001b[0;34m,\u001b[0m\u001b[0;34m\u001b[0m\u001b[0;34m\u001b[0m\u001b[0m\n\u001b[0;32m--> 707\u001b[0;31m                 \u001b[0mnewline\u001b[0m\u001b[0;34m=\u001b[0m\u001b[0;34m\"\"\u001b[0m\u001b[0;34m,\u001b[0m\u001b[0;34m\u001b[0m\u001b[0;34m\u001b[0m\u001b[0m\n\u001b[0m\u001b[1;32m    708\u001b[0m             )\n\u001b[1;32m    709\u001b[0m         \u001b[0;32melse\u001b[0m\u001b[0;34m:\u001b[0m\u001b[0;34m\u001b[0m\u001b[0;34m\u001b[0m\u001b[0m\n",
            "\u001b[0;31mFileNotFoundError\u001b[0m: [Errno 2] No such file or directory: 'C:\\\\Users\\\\cheta\\\\Dropbox\\\\PC\\\\Downloads\\\\uber.csv'"
          ]
        }
      ],
      "source": [
        "df=pd.read_csv(r'C:\\Users\\cheta\\Dropbox\\PC\\Downloads\\uber.csv')\n",
        "df.head()"
      ]
    },
    {
      "cell_type": "code",
      "execution_count": null,
      "id": "6b238727",
      "metadata": {
        "id": "6b238727",
        "outputId": "cc964207-9b1f-461c-bdbd-afa7b6c10c47"
      },
      "outputs": [
        {
          "data": {
            "text/plain": [
              "(200000, 9)"
            ]
          },
          "execution_count": 38,
          "metadata": {},
          "output_type": "execute_result"
        }
      ],
      "source": [
        "df.shape"
      ]
    },
    {
      "cell_type": "code",
      "execution_count": null,
      "id": "fced2ca6",
      "metadata": {
        "id": "fced2ca6",
        "outputId": "529e74e5-22b1-451b-bc92-748f5098f1ab"
      },
      "outputs": [
        {
          "data": {
            "text/plain": [
              "(200000, 9)"
            ]
          },
          "execution_count": 39,
          "metadata": {},
          "output_type": "execute_result"
        }
      ],
      "source": [
        "df.shape"
      ]
    },
    {
      "cell_type": "code",
      "execution_count": null,
      "id": "a61eb5e0",
      "metadata": {
        "id": "a61eb5e0",
        "outputId": "73994a23-29ea-42b1-a7be-0fd93fbc201c"
      },
      "outputs": [
        {
          "data": {
            "text/plain": [
              "Unnamed: 0           0\n",
              "key                  0\n",
              "fare_amount          0\n",
              "pickup_datetime      0\n",
              "pickup_longitude     0\n",
              "pickup_latitude      0\n",
              "dropoff_longitude    1\n",
              "dropoff_latitude     1\n",
              "passenger_count      0\n",
              "dtype: int64"
            ]
          },
          "execution_count": 40,
          "metadata": {},
          "output_type": "execute_result"
        }
      ],
      "source": [
        "df.isnull().sum()"
      ]
    },
    {
      "cell_type": "code",
      "execution_count": null,
      "id": "6ded8953",
      "metadata": {
        "id": "6ded8953"
      },
      "outputs": [],
      "source": [
        "df['dropoff_latitude'].fillna(value=df['dropoff_latitude'].mean(),inplace=True)\n",
        "df['dropoff_longitude'].fillna(value=df['dropoff_longitude'].mean(),inplace=True)"
      ]
    },
    {
      "cell_type": "code",
      "execution_count": null,
      "id": "5cc88fe8",
      "metadata": {
        "id": "5cc88fe8",
        "outputId": "9ac43ae7-3f57-4ed6-80a5-a2bb4b691857"
      },
      "outputs": [
        {
          "data": {
            "text/plain": [
              "Unnamed: 0           0\n",
              "key                  0\n",
              "fare_amount          0\n",
              "pickup_datetime      0\n",
              "pickup_longitude     0\n",
              "pickup_latitude      0\n",
              "dropoff_longitude    0\n",
              "dropoff_latitude     0\n",
              "passenger_count      0\n",
              "dtype: int64"
            ]
          },
          "execution_count": 42,
          "metadata": {},
          "output_type": "execute_result"
        }
      ],
      "source": [
        "df.isnull().sum()"
      ]
    },
    {
      "cell_type": "code",
      "execution_count": null,
      "id": "4088999d",
      "metadata": {
        "colab": {
          "base_uri": "https://localhost:8080/",
          "height": 165
        },
        "id": "4088999d",
        "outputId": "7aace935-3de3-42d6-d20a-bb2ec386271e"
      },
      "outputs": [
        {
          "output_type": "error",
          "ename": "NameError",
          "evalue": "ignored",
          "traceback": [
            "\u001b[0;31m---------------------------------------------------------------------------\u001b[0m",
            "\u001b[0;31mNameError\u001b[0m                                 Traceback (most recent call last)",
            "\u001b[0;32m<ipython-input-2-6028c6b4b094>\u001b[0m in \u001b[0;36m<module>\u001b[0;34m\u001b[0m\n\u001b[0;32m----> 1\u001b[0;31m \u001b[0mdf\u001b[0m\u001b[0;34m.\u001b[0m\u001b[0mpickup_datetime\u001b[0m\u001b[0;34m=\u001b[0m\u001b[0mpd\u001b[0m\u001b[0;34m.\u001b[0m\u001b[0mto_datetime\u001b[0m\u001b[0;34m(\u001b[0m\u001b[0mdf\u001b[0m\u001b[0;34m.\u001b[0m\u001b[0mpickup_datetime\u001b[0m\u001b[0;34m,\u001b[0m\u001b[0merrors\u001b[0m\u001b[0;34m=\u001b[0m\u001b[0;34m'coerce'\u001b[0m\u001b[0;34m)\u001b[0m\u001b[0;34m\u001b[0m\u001b[0;34m\u001b[0m\u001b[0m\n\u001b[0m",
            "\u001b[0;31mNameError\u001b[0m: name 'df' is not defined"
          ]
        }
      ],
      "source": [
        "df.pickup_datetime=pd.to_datetime(df.pickup_datetime,errors='coerce')"
      ]
    },
    {
      "cell_type": "code",
      "execution_count": null,
      "id": "cc41d314",
      "metadata": {
        "id": "cc41d314",
        "outputId": "34b4aea3-2151-45c1-e16d-f0f42468a717"
      },
      "outputs": [
        {
          "data": {
            "text/plain": [
              "fare_amount                      float64\n",
              "pickup_datetime      datetime64[ns, UTC]\n",
              "pickup_longitude                 float64\n",
              "pickup_latitude                  float64\n",
              "dropoff_longitude                float64\n",
              "dropoff_latitude                 float64\n",
              "passenger_count                    int64\n",
              "dtype: object"
            ]
          },
          "execution_count": 50,
          "metadata": {},
          "output_type": "execute_result"
        }
      ],
      "source": [
        "df.dtypes"
      ]
    },
    {
      "cell_type": "code",
      "execution_count": null,
      "id": "b4093d54",
      "metadata": {
        "colab": {
          "base_uri": "https://localhost:8080/",
          "height": 165
        },
        "id": "b4093d54",
        "outputId": "bd7bbd89-d941-44d0-f029-75ec0dd662b2"
      },
      "outputs": [
        {
          "output_type": "error",
          "ename": "NameError",
          "evalue": "ignored",
          "traceback": [
            "\u001b[0;31m---------------------------------------------------------------------------\u001b[0m",
            "\u001b[0;31mNameError\u001b[0m                                 Traceback (most recent call last)",
            "\u001b[0;32m<ipython-input-3-b5ccd95c132d>\u001b[0m in \u001b[0;36m<module>\u001b[0;34m\u001b[0m\n\u001b[0;32m----> 1\u001b[0;31m \u001b[0mdf\u001b[0m\u001b[0;34m=\u001b[0m\u001b[0mdf\u001b[0m\u001b[0;34m.\u001b[0m\u001b[0mdrop\u001b[0m\u001b[0;34m(\u001b[0m\u001b[0;34m[\u001b[0m\u001b[0;34m'Unnamed: 0'\u001b[0m\u001b[0;34m,\u001b[0m\u001b[0;34m'key'\u001b[0m\u001b[0;34m]\u001b[0m\u001b[0;34m,\u001b[0m\u001b[0maxis\u001b[0m\u001b[0;34m=\u001b[0m\u001b[0;36m1\u001b[0m\u001b[0;34m)\u001b[0m\u001b[0;34m\u001b[0m\u001b[0;34m\u001b[0m\u001b[0m\n\u001b[0m",
            "\u001b[0;31mNameError\u001b[0m: name 'df' is not defined"
          ]
        }
      ],
      "source": [
        "df=df.drop(['Unnamed: 0','key'],axis=1)"
      ]
    },
    {
      "cell_type": "code",
      "execution_count": null,
      "id": "cd6d173f",
      "metadata": {
        "id": "cd6d173f"
      },
      "outputs": [],
      "source": [
        "df=df.assign(hour=df.pickup_datetime.dt.hour,\n",
        "            day=df.pickup_datetime.dt.day,\n",
        "            month=df.pickup_datetime.dt.month,\n",
        "            year=df.pickup_datetime.dt.year)"
      ]
    },
    {
      "cell_type": "code",
      "execution_count": null,
      "id": "82cdf57e",
      "metadata": {
        "id": "82cdf57e",
        "outputId": "4f58788e-02f0-405c-b9c7-76dbb22cc186"
      },
      "outputs": [
        {
          "data": {
            "text/html": [
              "<div>\n",
              "<style scoped>\n",
              "    .dataframe tbody tr th:only-of-type {\n",
              "        vertical-align: middle;\n",
              "    }\n",
              "\n",
              "    .dataframe tbody tr th {\n",
              "        vertical-align: top;\n",
              "    }\n",
              "\n",
              "    .dataframe thead th {\n",
              "        text-align: right;\n",
              "    }\n",
              "</style>\n",
              "<table border=\"1\" class=\"dataframe\">\n",
              "  <thead>\n",
              "    <tr style=\"text-align: right;\">\n",
              "      <th></th>\n",
              "      <th>fare_amount</th>\n",
              "      <th>pickup_datetime</th>\n",
              "      <th>pickup_longitude</th>\n",
              "      <th>pickup_latitude</th>\n",
              "      <th>dropoff_longitude</th>\n",
              "      <th>dropoff_latitude</th>\n",
              "      <th>passenger_count</th>\n",
              "      <th>hour</th>\n",
              "      <th>day</th>\n",
              "      <th>month</th>\n",
              "      <th>year</th>\n",
              "    </tr>\n",
              "  </thead>\n",
              "  <tbody>\n",
              "    <tr>\n",
              "      <th>0</th>\n",
              "      <td>7.5</td>\n",
              "      <td>2015-05-07 19:52:06+00:00</td>\n",
              "      <td>-73.999817</td>\n",
              "      <td>40.738354</td>\n",
              "      <td>-73.999512</td>\n",
              "      <td>40.723217</td>\n",
              "      <td>1</td>\n",
              "      <td>19</td>\n",
              "      <td>7</td>\n",
              "      <td>5</td>\n",
              "      <td>2015</td>\n",
              "    </tr>\n",
              "    <tr>\n",
              "      <th>1</th>\n",
              "      <td>7.7</td>\n",
              "      <td>2009-07-17 20:04:56+00:00</td>\n",
              "      <td>-73.994355</td>\n",
              "      <td>40.728225</td>\n",
              "      <td>-73.994710</td>\n",
              "      <td>40.750325</td>\n",
              "      <td>1</td>\n",
              "      <td>20</td>\n",
              "      <td>17</td>\n",
              "      <td>7</td>\n",
              "      <td>2009</td>\n",
              "    </tr>\n",
              "    <tr>\n",
              "      <th>2</th>\n",
              "      <td>12.9</td>\n",
              "      <td>2009-08-24 21:45:00+00:00</td>\n",
              "      <td>-74.005043</td>\n",
              "      <td>40.740770</td>\n",
              "      <td>-73.962565</td>\n",
              "      <td>40.772647</td>\n",
              "      <td>1</td>\n",
              "      <td>21</td>\n",
              "      <td>24</td>\n",
              "      <td>8</td>\n",
              "      <td>2009</td>\n",
              "    </tr>\n",
              "    <tr>\n",
              "      <th>3</th>\n",
              "      <td>5.3</td>\n",
              "      <td>2009-06-26 08:22:21+00:00</td>\n",
              "      <td>-73.976124</td>\n",
              "      <td>40.790844</td>\n",
              "      <td>-73.965316</td>\n",
              "      <td>40.803349</td>\n",
              "      <td>3</td>\n",
              "      <td>8</td>\n",
              "      <td>26</td>\n",
              "      <td>6</td>\n",
              "      <td>2009</td>\n",
              "    </tr>\n",
              "    <tr>\n",
              "      <th>4</th>\n",
              "      <td>16.0</td>\n",
              "      <td>2014-08-28 17:47:00+00:00</td>\n",
              "      <td>-73.925023</td>\n",
              "      <td>40.744085</td>\n",
              "      <td>-73.973082</td>\n",
              "      <td>40.761247</td>\n",
              "      <td>5</td>\n",
              "      <td>17</td>\n",
              "      <td>28</td>\n",
              "      <td>8</td>\n",
              "      <td>2014</td>\n",
              "    </tr>\n",
              "  </tbody>\n",
              "</table>\n",
              "</div>"
            ],
            "text/plain": [
              "   fare_amount           pickup_datetime  pickup_longitude  pickup_latitude  \\\n",
              "0          7.5 2015-05-07 19:52:06+00:00        -73.999817        40.738354   \n",
              "1          7.7 2009-07-17 20:04:56+00:00        -73.994355        40.728225   \n",
              "2         12.9 2009-08-24 21:45:00+00:00        -74.005043        40.740770   \n",
              "3          5.3 2009-06-26 08:22:21+00:00        -73.976124        40.790844   \n",
              "4         16.0 2014-08-28 17:47:00+00:00        -73.925023        40.744085   \n",
              "\n",
              "   dropoff_longitude  dropoff_latitude  passenger_count  hour  day  month  \\\n",
              "0         -73.999512         40.723217                1    19    7      5   \n",
              "1         -73.994710         40.750325                1    20   17      7   \n",
              "2         -73.962565         40.772647                1    21   24      8   \n",
              "3         -73.965316         40.803349                3     8   26      6   \n",
              "4         -73.973082         40.761247                5    17   28      8   \n",
              "\n",
              "   year  \n",
              "0  2015  \n",
              "1  2009  \n",
              "2  2009  \n",
              "3  2009  \n",
              "4  2014  "
            ]
          },
          "execution_count": 52,
          "metadata": {},
          "output_type": "execute_result"
        }
      ],
      "source": [
        "df.head()"
      ]
    },
    {
      "cell_type": "code",
      "execution_count": null,
      "id": "ef7d417a",
      "metadata": {
        "id": "ef7d417a",
        "outputId": "a389ab9d-af12-41e3-dd49-5ff4a815567c"
      },
      "outputs": [
        {
          "data": {
            "text/plain": [
              "fare_amount             AxesSubplot(0.125,0.787927;0.352273x0.0920732)\n",
              "pickup_longitude     AxesSubplot(0.547727,0.787927;0.352273x0.0920732)\n",
              "pickup_latitude         AxesSubplot(0.125,0.677439;0.352273x0.0920732)\n",
              "dropoff_longitude    AxesSubplot(0.547727,0.677439;0.352273x0.0920732)\n",
              "dropoff_latitude        AxesSubplot(0.125,0.566951;0.352273x0.0920732)\n",
              "passenger_count      AxesSubplot(0.547727,0.566951;0.352273x0.0920732)\n",
              "hour                    AxesSubplot(0.125,0.456463;0.352273x0.0920732)\n",
              "day                  AxesSubplot(0.547727,0.456463;0.352273x0.0920732)\n",
              "month                   AxesSubplot(0.125,0.345976;0.352273x0.0920732)\n",
              "year                 AxesSubplot(0.547727,0.345976;0.352273x0.0920732)\n",
              "dtype: object"
            ]
          },
          "execution_count": 57,
          "metadata": {},
          "output_type": "execute_result"
        },
        {
          "data": {
            "image/png": "[encoded data removed]",
            "text/plain": [
              "<Figure size 1080x1440 with 14 Axes>"
            ]
          },
          "metadata": {
            "needs_background": "light"
          },
          "output_type": "display_data"
        }
      ],
      "source": [
        "df.plot(kind=\"box\",subplots=True,layout=(7,2),figsize=(15,20))"
      ]
    },
    {
      "cell_type": "code",
      "execution_count": null,
      "id": "1ab9b7da",
      "metadata": {
        "id": "1ab9b7da"
      },
      "outputs": [],
      "source": [
        "def remove_outlier(df1,col):\n",
        "    Q1=df1[col].quantile(0.25)\n",
        "    Q3=df1[col].quantile(0.75)\n",
        "    IQR=Q3-Q1\n",
        "    lower_whisker=Q1-1.5*IQR\n",
        "    upper_whisker=Q3-1.5*IQR\n",
        "    df[col]=np.clip(df1[col],lower_whisker,upper_whisker)\n",
        "    return df1\n",
        "def treat(df1,col_list):\n",
        "    for c in col_list:\n",
        "        df1=remove_outlier(df,c)\n",
        "    return df1"
      ]
    },
    {
      "cell_type": "code",
      "execution_count": null,
      "id": "06fe9845",
      "metadata": {
        "id": "06fe9845"
      },
      "outputs": [],
      "source": [
        "df=treat(df,df.iloc[:,0:])"
      ]
    },
    {
      "cell_type": "code",
      "execution_count": null,
      "id": "47bfd857",
      "metadata": {
        "id": "47bfd857",
        "outputId": "4d283a76-e99d-44b7-ed7a-ddd0ba7174b4"
      },
      "outputs": [
        {
          "data": {
            "text/plain": [
              "fare_amount             AxesSubplot(0.125,0.787927;0.352273x0.0920732)\n",
              "pickup_longitude     AxesSubplot(0.547727,0.787927;0.352273x0.0920732)\n",
              "pickup_latitude         AxesSubplot(0.125,0.677439;0.352273x0.0920732)\n",
              "dropoff_longitude    AxesSubplot(0.547727,0.677439;0.352273x0.0920732)\n",
              "dropoff_latitude        AxesSubplot(0.125,0.566951;0.352273x0.0920732)\n",
              "passenger_count      AxesSubplot(0.547727,0.566951;0.352273x0.0920732)\n",
              "hour                    AxesSubplot(0.125,0.456463;0.352273x0.0920732)\n",
              "day                  AxesSubplot(0.547727,0.456463;0.352273x0.0920732)\n",
              "month                   AxesSubplot(0.125,0.345976;0.352273x0.0920732)\n",
              "year                 AxesSubplot(0.547727,0.345976;0.352273x0.0920732)\n",
              "dtype: object"
            ]
          },
          "execution_count": 76,
          "metadata": {},
          "output_type": "execute_result"
        },
        {
          "data": {
            "image/png": "[encoded data removed]",
            "text/plain": [
              "<Figure size 1080x1440 with 14 Axes>"
            ]
          },
          "metadata": {
            "needs_background": "light"
          },
          "output_type": "display_data"
        }
      ],
      "source": [
        "df.plot(kind=\"box\",subplots=True,layout=(7,2),figsize=(15,20))"
      ]
    },
    {
      "cell_type": "code",
      "execution_count": null,
      "id": "9ab8ae8f",
      "metadata": {
        "id": "9ab8ae8f"
      },
      "outputs": [],
      "source": [
        "import haversine as hs"
      ]
    },
    {
      "cell_type": "code",
      "execution_count": null,
      "id": "2f23ef02",
      "metadata": {
        "scrolled": true,
        "id": "2f23ef02",
        "outputId": "573a6ca0-85ea-45c4-8aea-2258605beae3"
      },
      "outputs": [
        {
          "name": "stderr",
          "output_type": "stream",
          "text": [
            "IOPub data rate exceeded.\n",
            "The notebook server will temporarily stop sending output\n",
            "to the client in order to avoid crashing it.\n",
            "To change this limit, set the config variable\n",
            "`--NotebookApp.iopub_data_rate_limit`.\n",
            "\n",
            "Current values:\n",
            "NotebookApp.iopub_data_rate_limit=1000000.0 (bytes/sec)\n",
            "NotebookApp.rate_limit_window=3.0 (secs)\n",
            "\n"
          ]
        },
        {
          "data": {
            "text/html": [
              "<div>\n",
              "<style scoped>\n",
              "    .dataframe tbody tr th:only-of-type {\n",
              "        vertical-align: middle;\n",
              "    }\n",
              "\n",
              "    .dataframe tbody tr th {\n",
              "        vertical-align: top;\n",
              "    }\n",
              "\n",
              "    .dataframe thead th {\n",
              "        text-align: right;\n",
              "    }\n",
              "</style>\n",
              "<table border=\"1\" class=\"dataframe\">\n",
              "  <thead>\n",
              "    <tr style=\"text-align: right;\">\n",
              "      <th></th>\n",
              "      <th>fare_amount</th>\n",
              "      <th>pickup_datetime</th>\n",
              "      <th>pickup_longitude</th>\n",
              "      <th>pickup_latitude</th>\n",
              "      <th>dropoff_longitude</th>\n",
              "      <th>dropoff_latitude</th>\n",
              "      <th>passenger_count</th>\n",
              "      <th>hour</th>\n",
              "      <th>day</th>\n",
              "      <th>month</th>\n",
              "      <th>year</th>\n",
              "      <th>travel_dist_km</th>\n",
              "    </tr>\n",
              "  </thead>\n",
              "  <tbody>\n",
              "    <tr>\n",
              "      <th>0</th>\n",
              "      <td>5.625</td>\n",
              "      <td>2009-01-26 23:23:15.750000+00:00</td>\n",
              "      <td>-74.004521</td>\n",
              "      <td>40.718615</td>\n",
              "      <td>-74.005281</td>\n",
              "      <td>40.716734</td>\n",
              "      <td>0.5</td>\n",
              "      <td>4.0</td>\n",
              "      <td>0.5</td>\n",
              "      <td>0.0</td>\n",
              "      <td>2008.5</td>\n",
              "      <td>0.218732</td>\n",
              "    </tr>\n",
              "    <tr>\n",
              "      <th>1</th>\n",
              "      <td>5.625</td>\n",
              "      <td>2009-01-26 23:23:15.750000+00:00</td>\n",
              "      <td>-74.004521</td>\n",
              "      <td>40.718615</td>\n",
              "      <td>-74.005281</td>\n",
              "      <td>40.716734</td>\n",
              "      <td>0.5</td>\n",
              "      <td>4.0</td>\n",
              "      <td>0.5</td>\n",
              "      <td>0.0</td>\n",
              "      <td>2008.5</td>\n",
              "      <td>0.218732</td>\n",
              "    </tr>\n",
              "    <tr>\n",
              "      <th>2</th>\n",
              "      <td>5.625</td>\n",
              "      <td>2009-01-26 23:23:15.750000+00:00</td>\n",
              "      <td>-74.005043</td>\n",
              "      <td>40.718615</td>\n",
              "      <td>-74.005281</td>\n",
              "      <td>40.716734</td>\n",
              "      <td>0.5</td>\n",
              "      <td>4.0</td>\n",
              "      <td>0.5</td>\n",
              "      <td>0.0</td>\n",
              "      <td>2008.5</td>\n",
              "      <td>0.210088</td>\n",
              "    </tr>\n",
              "    <tr>\n",
              "      <th>3</th>\n",
              "      <td>5.625</td>\n",
              "      <td>2009-01-26 23:23:15.750000+00:00</td>\n",
              "      <td>-74.004521</td>\n",
              "      <td>40.718615</td>\n",
              "      <td>-74.005281</td>\n",
              "      <td>40.716734</td>\n",
              "      <td>0.5</td>\n",
              "      <td>4.0</td>\n",
              "      <td>0.5</td>\n",
              "      <td>0.0</td>\n",
              "      <td>2008.5</td>\n",
              "      <td>0.218732</td>\n",
              "    </tr>\n",
              "    <tr>\n",
              "      <th>4</th>\n",
              "      <td>5.625</td>\n",
              "      <td>2009-01-26 23:23:15.750000+00:00</td>\n",
              "      <td>-74.004521</td>\n",
              "      <td>40.718615</td>\n",
              "      <td>-74.005281</td>\n",
              "      <td>40.716734</td>\n",
              "      <td>0.5</td>\n",
              "      <td>4.0</td>\n",
              "      <td>0.5</td>\n",
              "      <td>0.0</td>\n",
              "      <td>2008.5</td>\n",
              "      <td>0.218732</td>\n",
              "    </tr>\n",
              "  </tbody>\n",
              "</table>\n",
              "</div>"
            ],
            "text/plain": [
              "   fare_amount                  pickup_datetime  pickup_longitude  \\\n",
              "0        5.625 2009-01-26 23:23:15.750000+00:00        -74.004521   \n",
              "1        5.625 2009-01-26 23:23:15.750000+00:00        -74.004521   \n",
              "2        5.625 2009-01-26 23:23:15.750000+00:00        -74.005043   \n",
              "3        5.625 2009-01-26 23:23:15.750000+00:00        -74.004521   \n",
              "4        5.625 2009-01-26 23:23:15.750000+00:00        -74.004521   \n",
              "\n",
              "   pickup_latitude  dropoff_longitude  dropoff_latitude  passenger_count  \\\n",
              "0        40.718615         -74.005281         40.716734              0.5   \n",
              "1        40.718615         -74.005281         40.716734              0.5   \n",
              "2        40.718615         -74.005281         40.716734              0.5   \n",
              "3        40.718615         -74.005281         40.716734              0.5   \n",
              "4        40.718615         -74.005281         40.716734              0.5   \n",
              "\n",
              "   hour  day  month    year  travel_dist_km  \n",
              "0   4.0  0.5    0.0  2008.5        0.218732  \n",
              "1   4.0  0.5    0.0  2008.5        0.218732  \n",
              "2   4.0  0.5    0.0  2008.5        0.210088  \n",
              "3   4.0  0.5    0.0  2008.5        0.218732  \n",
              "4   4.0  0.5    0.0  2008.5        0.218732  "
            ]
          },
          "execution_count": 81,
          "metadata": {},
          "output_type": "execute_result"
        }
      ],
      "source": [
        "travel_dist=[]\n",
        "for pos in range(len(df['pickup_longitude'])):\n",
        "    long1,lati1,long2,lati2=[df['pickup_longitude'][pos],df['pickup_latitude'][pos],df['dropoff_longitude'][pos],df['dropoff_latitude'][pos]]\n",
        "    loc1=(lati1,long1)\n",
        "    loc2=(lati2,long2)\n",
        "    c=hs.haversine(loc1,loc2)\n",
        "    travel_dist.append(c)\n",
        "print(travel_dist)\n",
        "df['travel_dist_km']=travel_dist\n",
        "df.head()"
      ]
    },
    {
      "cell_type": "code",
      "execution_count": null,
      "id": "8cdeacb2",
      "metadata": {
        "id": "8cdeacb2"
      },
      "outputs": [],
      "source": [
        "df=df.loc[(df.travel_dist_km>=1) | (df.travel_dist_km<=130)]"
      ]
    },
    {
      "cell_type": "code",
      "execution_count": null,
      "id": "74d5469b",
      "metadata": {
        "id": "74d5469b"
      },
      "outputs": [],
      "source": [
        "incorrect_coordinates=df.loc[(df.pickup_latitude > 90)  |(df.pickup_latitude<-90)  |\n",
        "                             (df.pickup_longitude > 90) |(df.pickup_longitude<-90)  |\n",
        "                             (df.dropoff_longitude>90)  |(df.dropoff_longitude<-90)|\n",
        "                             (df.dropoff_latitude>90 )  |(df.dropoff_latitude<-90)]"
      ]
    },
    {
      "cell_type": "code",
      "execution_count": null,
      "id": "1788bad7",
      "metadata": {
        "id": "1788bad7",
        "outputId": "eb7c9b4f-0ee6-4c85-dc69-2a39931a39a5"
      },
      "outputs": [
        {
          "data": {
            "text/html": [
              "<div>\n",
              "<style scoped>\n",
              "    .dataframe tbody tr th:only-of-type {\n",
              "        vertical-align: middle;\n",
              "    }\n",
              "\n",
              "    .dataframe tbody tr th {\n",
              "        vertical-align: top;\n",
              "    }\n",
              "\n",
              "    .dataframe thead th {\n",
              "        text-align: right;\n",
              "    }\n",
              "</style>\n",
              "<table border=\"1\" class=\"dataframe\">\n",
              "  <thead>\n",
              "    <tr style=\"text-align: right;\">\n",
              "      <th></th>\n",
              "      <th>fare_amount</th>\n",
              "      <th>pickup_datetime</th>\n",
              "      <th>pickup_longitude</th>\n",
              "      <th>pickup_latitude</th>\n",
              "      <th>dropoff_longitude</th>\n",
              "      <th>dropoff_latitude</th>\n",
              "      <th>passenger_count</th>\n",
              "      <th>hour</th>\n",
              "      <th>day</th>\n",
              "      <th>month</th>\n",
              "      <th>year</th>\n",
              "      <th>travel_dist_km</th>\n",
              "    </tr>\n",
              "  </thead>\n",
              "  <tbody>\n",
              "    <tr>\n",
              "      <th>0</th>\n",
              "      <td>5.625</td>\n",
              "      <td>2009-01-26 23:23:15.750000+00:00</td>\n",
              "      <td>-74.004521</td>\n",
              "      <td>40.718615</td>\n",
              "      <td>-74.005281</td>\n",
              "      <td>40.716734</td>\n",
              "      <td>0.5</td>\n",
              "      <td>4.0</td>\n",
              "      <td>0.5</td>\n",
              "      <td>0.0</td>\n",
              "      <td>2008.5</td>\n",
              "      <td>0.218732</td>\n",
              "    </tr>\n",
              "    <tr>\n",
              "      <th>1</th>\n",
              "      <td>5.625</td>\n",
              "      <td>2009-01-26 23:23:15.750000+00:00</td>\n",
              "      <td>-74.004521</td>\n",
              "      <td>40.718615</td>\n",
              "      <td>-74.005281</td>\n",
              "      <td>40.716734</td>\n",
              "      <td>0.5</td>\n",
              "      <td>4.0</td>\n",
              "      <td>0.5</td>\n",
              "      <td>0.0</td>\n",
              "      <td>2008.5</td>\n",
              "      <td>0.218732</td>\n",
              "    </tr>\n",
              "    <tr>\n",
              "      <th>2</th>\n",
              "      <td>5.625</td>\n",
              "      <td>2009-01-26 23:23:15.750000+00:00</td>\n",
              "      <td>-74.005043</td>\n",
              "      <td>40.718615</td>\n",
              "      <td>-74.005281</td>\n",
              "      <td>40.716734</td>\n",
              "      <td>0.5</td>\n",
              "      <td>4.0</td>\n",
              "      <td>0.5</td>\n",
              "      <td>0.0</td>\n",
              "      <td>2008.5</td>\n",
              "      <td>0.210088</td>\n",
              "    </tr>\n",
              "    <tr>\n",
              "      <th>3</th>\n",
              "      <td>5.625</td>\n",
              "      <td>2009-01-26 23:23:15.750000+00:00</td>\n",
              "      <td>-74.004521</td>\n",
              "      <td>40.718615</td>\n",
              "      <td>-74.005281</td>\n",
              "      <td>40.716734</td>\n",
              "      <td>0.5</td>\n",
              "      <td>4.0</td>\n",
              "      <td>0.5</td>\n",
              "      <td>0.0</td>\n",
              "      <td>2008.5</td>\n",
              "      <td>0.218732</td>\n",
              "    </tr>\n",
              "    <tr>\n",
              "      <th>4</th>\n",
              "      <td>5.625</td>\n",
              "      <td>2009-01-26 23:23:15.750000+00:00</td>\n",
              "      <td>-74.004521</td>\n",
              "      <td>40.718615</td>\n",
              "      <td>-74.005281</td>\n",
              "      <td>40.716734</td>\n",
              "      <td>0.5</td>\n",
              "      <td>4.0</td>\n",
              "      <td>0.5</td>\n",
              "      <td>0.0</td>\n",
              "      <td>2008.5</td>\n",
              "      <td>0.218732</td>\n",
              "    </tr>\n",
              "  </tbody>\n",
              "</table>\n",
              "</div>"
            ],
            "text/plain": [
              "   fare_amount                  pickup_datetime  pickup_longitude  \\\n",
              "0        5.625 2009-01-26 23:23:15.750000+00:00        -74.004521   \n",
              "1        5.625 2009-01-26 23:23:15.750000+00:00        -74.004521   \n",
              "2        5.625 2009-01-26 23:23:15.750000+00:00        -74.005043   \n",
              "3        5.625 2009-01-26 23:23:15.750000+00:00        -74.004521   \n",
              "4        5.625 2009-01-26 23:23:15.750000+00:00        -74.004521   \n",
              "\n",
              "   pickup_latitude  dropoff_longitude  dropoff_latitude  passenger_count  \\\n",
              "0        40.718615         -74.005281         40.716734              0.5   \n",
              "1        40.718615         -74.005281         40.716734              0.5   \n",
              "2        40.718615         -74.005281         40.716734              0.5   \n",
              "3        40.718615         -74.005281         40.716734              0.5   \n",
              "4        40.718615         -74.005281         40.716734              0.5   \n",
              "\n",
              "   hour  day  month    year  travel_dist_km  \n",
              "0   4.0  0.5    0.0  2008.5        0.218732  \n",
              "1   4.0  0.5    0.0  2008.5        0.218732  \n",
              "2   4.0  0.5    0.0  2008.5        0.210088  \n",
              "3   4.0  0.5    0.0  2008.5        0.218732  \n",
              "4   4.0  0.5    0.0  2008.5        0.218732  "
            ]
          },
          "execution_count": 95,
          "metadata": {},
          "output_type": "execute_result"
        }
      ],
      "source": [
        "df.drop(incorrect_coordinates,inplace=True,errors='ignore')\n",
        "df.head()"
      ]
    },
    {
      "cell_type": "code",
      "execution_count": null,
      "id": "1a5a9a17",
      "metadata": {
        "id": "1a5a9a17",
        "outputId": "9a7dfb05-e5aa-43f8-afe3-7e229fe87866"
      },
      "outputs": [
        {
          "data": {
            "text/plain": [
              "<AxesSubplot:>"
            ]
          },
          "execution_count": 96,
          "metadata": {},
          "output_type": "execute_result"
        },
        {
          "data": {
            "image/png": "[encoded data removed]",
            "text/plain": [
              "<Figure size 432x288 with 2 Axes>"
            ]
          },
          "metadata": {
            "needs_background": "light"
          },
          "output_type": "display_data"
        }
      ],
      "source": [
        "sns.heatmap(df.isnull())"
      ]
    },
    {
      "cell_type": "code",
      "execution_count": null,
      "id": "f674603e",
      "metadata": {
        "id": "f674603e",
        "outputId": "5aa608b5-a599-402d-fdf8-0358b32e4ac1"
      },
      "outputs": [
        {
          "data": {
            "text/html": [
              "<div>\n",
              "<style scoped>\n",
              "    .dataframe tbody tr th:only-of-type {\n",
              "        vertical-align: middle;\n",
              "    }\n",
              "\n",
              "    .dataframe tbody tr th {\n",
              "        vertical-align: top;\n",
              "    }\n",
              "\n",
              "    .dataframe thead th {\n",
              "        text-align: right;\n",
              "    }\n",
              "</style>\n",
              "<table border=\"1\" class=\"dataframe\">\n",
              "  <thead>\n",
              "    <tr style=\"text-align: right;\">\n",
              "      <th></th>\n",
              "      <th>fare_amount</th>\n",
              "      <th>pickup_longitude</th>\n",
              "      <th>pickup_latitude</th>\n",
              "      <th>dropoff_longitude</th>\n",
              "      <th>dropoff_latitude</th>\n",
              "      <th>passenger_count</th>\n",
              "      <th>hour</th>\n",
              "      <th>day</th>\n",
              "      <th>month</th>\n",
              "      <th>year</th>\n",
              "      <th>travel_dist_km</th>\n",
              "    </tr>\n",
              "  </thead>\n",
              "  <tbody>\n",
              "    <tr>\n",
              "      <th>fare_amount</th>\n",
              "      <td>NaN</td>\n",
              "      <td>NaN</td>\n",
              "      <td>NaN</td>\n",
              "      <td>NaN</td>\n",
              "      <td>NaN</td>\n",
              "      <td>NaN</td>\n",
              "      <td>NaN</td>\n",
              "      <td>NaN</td>\n",
              "      <td>NaN</td>\n",
              "      <td>NaN</td>\n",
              "      <td>NaN</td>\n",
              "    </tr>\n",
              "    <tr>\n",
              "      <th>pickup_longitude</th>\n",
              "      <td>NaN</td>\n",
              "      <td>1.000000</td>\n",
              "      <td>0.125837</td>\n",
              "      <td>0.274785</td>\n",
              "      <td>0.025273</td>\n",
              "      <td>-0.002128</td>\n",
              "      <td>-0.004913</td>\n",
              "      <td>NaN</td>\n",
              "      <td>NaN</td>\n",
              "      <td>NaN</td>\n",
              "      <td>-0.121375</td>\n",
              "    </tr>\n",
              "    <tr>\n",
              "      <th>pickup_latitude</th>\n",
              "      <td>NaN</td>\n",
              "      <td>0.125837</td>\n",
              "      <td>1.000000</td>\n",
              "      <td>0.029093</td>\n",
              "      <td>0.530161</td>\n",
              "      <td>0.002136</td>\n",
              "      <td>0.011831</td>\n",
              "      <td>NaN</td>\n",
              "      <td>NaN</td>\n",
              "      <td>NaN</td>\n",
              "      <td>-0.342350</td>\n",
              "    </tr>\n",
              "    <tr>\n",
              "      <th>dropoff_longitude</th>\n",
              "      <td>NaN</td>\n",
              "      <td>0.274785</td>\n",
              "      <td>0.029093</td>\n",
              "      <td>1.000000</td>\n",
              "      <td>0.158657</td>\n",
              "      <td>-0.003388</td>\n",
              "      <td>0.002003</td>\n",
              "      <td>NaN</td>\n",
              "      <td>NaN</td>\n",
              "      <td>NaN</td>\n",
              "      <td>-0.256904</td>\n",
              "    </tr>\n",
              "    <tr>\n",
              "      <th>dropoff_latitude</th>\n",
              "      <td>NaN</td>\n",
              "      <td>0.025273</td>\n",
              "      <td>0.530161</td>\n",
              "      <td>0.158657</td>\n",
              "      <td>1.000000</td>\n",
              "      <td>0.000046</td>\n",
              "      <td>0.057192</td>\n",
              "      <td>NaN</td>\n",
              "      <td>NaN</td>\n",
              "      <td>NaN</td>\n",
              "      <td>-0.596957</td>\n",
              "    </tr>\n",
              "    <tr>\n",
              "      <th>passenger_count</th>\n",
              "      <td>NaN</td>\n",
              "      <td>-0.002128</td>\n",
              "      <td>0.002136</td>\n",
              "      <td>-0.003388</td>\n",
              "      <td>0.000046</td>\n",
              "      <td>1.000000</td>\n",
              "      <td>-0.000261</td>\n",
              "      <td>NaN</td>\n",
              "      <td>NaN</td>\n",
              "      <td>NaN</td>\n",
              "      <td>0.002259</td>\n",
              "    </tr>\n",
              "    <tr>\n",
              "      <th>hour</th>\n",
              "      <td>NaN</td>\n",
              "      <td>-0.004913</td>\n",
              "      <td>0.011831</td>\n",
              "      <td>0.002003</td>\n",
              "      <td>0.057192</td>\n",
              "      <td>-0.000261</td>\n",
              "      <td>1.000000</td>\n",
              "      <td>NaN</td>\n",
              "      <td>NaN</td>\n",
              "      <td>NaN</td>\n",
              "      <td>-0.046169</td>\n",
              "    </tr>\n",
              "    <tr>\n",
              "      <th>day</th>\n",
              "      <td>NaN</td>\n",
              "      <td>NaN</td>\n",
              "      <td>NaN</td>\n",
              "      <td>NaN</td>\n",
              "      <td>NaN</td>\n",
              "      <td>NaN</td>\n",
              "      <td>NaN</td>\n",
              "      <td>NaN</td>\n",
              "      <td>NaN</td>\n",
              "      <td>NaN</td>\n",
              "      <td>NaN</td>\n",
              "    </tr>\n",
              "    <tr>\n",
              "      <th>month</th>\n",
              "      <td>NaN</td>\n",
              "      <td>NaN</td>\n",
              "      <td>NaN</td>\n",
              "      <td>NaN</td>\n",
              "      <td>NaN</td>\n",
              "      <td>NaN</td>\n",
              "      <td>NaN</td>\n",
              "      <td>NaN</td>\n",
              "      <td>NaN</td>\n",
              "      <td>NaN</td>\n",
              "      <td>NaN</td>\n",
              "    </tr>\n",
              "    <tr>\n",
              "      <th>year</th>\n",
              "      <td>NaN</td>\n",
              "      <td>NaN</td>\n",
              "      <td>NaN</td>\n",
              "      <td>NaN</td>\n",
              "      <td>NaN</td>\n",
              "      <td>NaN</td>\n",
              "      <td>NaN</td>\n",
              "      <td>NaN</td>\n",
              "      <td>NaN</td>\n",
              "      <td>NaN</td>\n",
              "      <td>NaN</td>\n",
              "    </tr>\n",
              "    <tr>\n",
              "      <th>travel_dist_km</th>\n",
              "      <td>NaN</td>\n",
              "      <td>-0.121375</td>\n",
              "      <td>-0.342350</td>\n",
              "      <td>-0.256904</td>\n",
              "      <td>-0.596957</td>\n",
              "      <td>0.002259</td>\n",
              "      <td>-0.046169</td>\n",
              "      <td>NaN</td>\n",
              "      <td>NaN</td>\n",
              "      <td>NaN</td>\n",
              "      <td>1.000000</td>\n",
              "    </tr>\n",
              "  </tbody>\n",
              "</table>\n",
              "</div>"
            ],
            "text/plain": [
              "                   fare_amount  pickup_longitude  pickup_latitude  \\\n",
              "fare_amount                NaN               NaN              NaN   \n",
              "pickup_longitude           NaN          1.000000         0.125837   \n",
              "pickup_latitude            NaN          0.125837         1.000000   \n",
              "dropoff_longitude          NaN          0.274785         0.029093   \n",
              "dropoff_latitude           NaN          0.025273         0.530161   \n",
              "passenger_count            NaN         -0.002128         0.002136   \n",
              "hour                       NaN         -0.004913         0.011831   \n",
              "day                        NaN               NaN              NaN   \n",
              "month                      NaN               NaN              NaN   \n",
              "year                       NaN               NaN              NaN   \n",
              "travel_dist_km             NaN         -0.121375        -0.342350   \n",
              "\n",
              "                   dropoff_longitude  dropoff_latitude  passenger_count  \\\n",
              "fare_amount                      NaN               NaN              NaN   \n",
              "pickup_longitude            0.274785          0.025273        -0.002128   \n",
              "pickup_latitude             0.029093          0.530161         0.002136   \n",
              "dropoff_longitude           1.000000          0.158657        -0.003388   \n",
              "dropoff_latitude            0.158657          1.000000         0.000046   \n",
              "passenger_count            -0.003388          0.000046         1.000000   \n",
              "hour                        0.002003          0.057192        -0.000261   \n",
              "day                              NaN               NaN              NaN   \n",
              "month                            NaN               NaN              NaN   \n",
              "year                             NaN               NaN              NaN   \n",
              "travel_dist_km             -0.256904         -0.596957         0.002259   \n",
              "\n",
              "                       hour  day  month  year  travel_dist_km  \n",
              "fare_amount             NaN  NaN    NaN   NaN             NaN  \n",
              "pickup_longitude  -0.004913  NaN    NaN   NaN       -0.121375  \n",
              "pickup_latitude    0.011831  NaN    NaN   NaN       -0.342350  \n",
              "dropoff_longitude  0.002003  NaN    NaN   NaN       -0.256904  \n",
              "dropoff_latitude   0.057192  NaN    NaN   NaN       -0.596957  \n",
              "passenger_count   -0.000261  NaN    NaN   NaN        0.002259  \n",
              "hour               1.000000  NaN    NaN   NaN       -0.046169  \n",
              "day                     NaN  NaN    NaN   NaN             NaN  \n",
              "month                   NaN  NaN    NaN   NaN             NaN  \n",
              "year                    NaN  NaN    NaN   NaN             NaN  \n",
              "travel_dist_km    -0.046169  NaN    NaN   NaN        1.000000  "
            ]
          },
          "execution_count": 98,
          "metadata": {},
          "output_type": "execute_result"
        }
      ],
      "source": [
        "corr=df.corr()\n",
        "corr"
      ]
    },
    {
      "cell_type": "code",
      "execution_count": null,
      "id": "a9a53179",
      "metadata": {
        "id": "a9a53179",
        "outputId": "8cfd1200-5d95-4799-bc73-b3ed850dd756"
      },
      "outputs": [
        {
          "data": {
            "text/plain": [
              "<AxesSubplot:>"
            ]
          },
          "execution_count": 101,
          "metadata": {},
          "output_type": "execute_result"
        },
        {
          "data": {
            "image/png": "[encoded data removed]",
            "text/plain": [
              "<Figure size 720x432 with 2 Axes>"
            ]
          },
          "metadata": {
            "needs_background": "light"
          },
          "output_type": "display_data"
        }
      ],
      "source": [
        "fig,axis=plt.subplots(figsize=(10,6))\n",
        "sns.heatmap(df.corr(),annot=True)"
      ]
    },
    {
      "cell_type": "code",
      "execution_count": null,
      "id": "39577951",
      "metadata": {
        "id": "39577951"
      },
      "outputs": [],
      "source": [
        "x=df[['pickup_longitude','pickup_latitude','dropoff_longitude','dropoff_latitude']]\n",
        "y=df[['fare_amount']]"
      ]
    },
    {
      "cell_type": "code",
      "execution_count": null,
      "id": "4c1c51c8",
      "metadata": {
        "id": "4c1c51c8"
      },
      "outputs": [],
      "source": [
        "from sklearn.model_selection import train_test_split\n",
        "x_train,x_test,y_train,y_test=train_test_split(x,y,test_size=0.33)"
      ]
    },
    {
      "cell_type": "code",
      "execution_count": null,
      "id": "b5422686",
      "metadata": {
        "id": "b5422686",
        "outputId": "b1158555-faa8-4bf8-ceee-9e849e0cbfa9"
      },
      "outputs": [
        {
          "data": {
            "text/plain": [
              "LinearRegression()"
            ]
          },
          "execution_count": 109,
          "metadata": {},
          "output_type": "execute_result"
        }
      ],
      "source": [
        "from sklearn.linear_model import LinearRegression\n",
        "regression=LinearRegression()\n",
        "regression.fit(x_train,y_train)"
      ]
    },
    {
      "cell_type": "code",
      "execution_count": null,
      "id": "1c6dc3f8",
      "metadata": {
        "id": "1c6dc3f8",
        "outputId": "2b881159-d056-4d38-d448-11093a468d31"
      },
      "outputs": [
        {
          "data": {
            "text/plain": [
              "array([[5.625],\n",
              "       [5.625],\n",
              "       [5.625],\n",
              "       ...,\n",
              "       [5.625],\n",
              "       [5.625],\n",
              "       [5.625]])"
            ]
          },
          "execution_count": 113,
          "metadata": {},
          "output_type": "execute_result"
        }
      ],
      "source": [
        "prediction=regression.predict(x_test)\n",
        "prediction"
      ]
    },
    {
      "cell_type": "code",
      "execution_count": null,
      "id": "09d08a98",
      "metadata": {
        "id": "09d08a98",
        "outputId": "4a6fd70b-281f-4187-db9e-171e6b221518"
      },
      "outputs": [
        {
          "data": {
            "text/plain": [
              "1.0"
            ]
          },
          "execution_count": 115,
          "metadata": {},
          "output_type": "execute_result"
        }
      ],
      "source": [
        "from sklearn.metrics import r2_score,mean_squared_error\n",
        "r2_score(y_test,prediction)"
      ]
    },
    {
      "cell_type": "code",
      "execution_count": null,
      "id": "ac634095",
      "metadata": {
        "id": "ac634095"
      },
      "outputs": [],
      "source": [
        "mse=mean_squared_error(y_test,prediction)"
      ]
    },
    {
      "cell_type": "code",
      "execution_count": null,
      "id": "d9f8b28f",
      "metadata": {
        "id": "d9f8b28f",
        "outputId": "7e915376-7acc-4cc7-a243-24713b878dbf"
      },
      "outputs": [
        {
          "data": {
            "text/plain": [
              "0.0"
            ]
          },
          "execution_count": 117,
          "metadata": {},
          "output_type": "execute_result"
        }
      ],
      "source": [
        "mse"
      ]
    },
    {
      "cell_type": "code",
      "execution_count": null,
      "id": "72e60f51",
      "metadata": {
        "id": "72e60f51"
      },
      "outputs": [],
      "source": [
        "rmse=np.sqrt(mse)"
      ]
    },
    {
      "cell_type": "code",
      "execution_count": null,
      "id": "0503954e",
      "metadata": {
        "id": "0503954e",
        "outputId": "179a976b-b3c3-497f-d72b-db63c5ec404b"
      },
      "outputs": [
        {
          "data": {
            "text/plain": [
              "0.0"
            ]
          },
          "execution_count": 121,
          "metadata": {},
          "output_type": "execute_result"
        }
      ],
      "source": [
        "rmse"
      ]
    },
    {
      "cell_type": "code",
      "execution_count": null,
      "id": "5e3ad64e",
      "metadata": {
        "id": "5e3ad64e",
        "outputId": "1ae393b5-e879-4812-f9fd-5a43a09dcaef"
      },
      "outputs": [
        {
          "name": "stderr",
          "output_type": "stream",
          "text": [
            "C:\\Users\\Home\\AppData\\Local\\Temp\\ipykernel_6724\\1941013405.py:3: DataConversionWarning: A column-vector y was passed when a 1d array was expected. Please change the shape of y to (n_samples,), for example using ravel().\n",
            "  rf.fit(x_train,y_train)\n"
          ]
        },
        {
          "data": {
            "text/plain": [
              "RandomForestRegressor()"
            ]
          },
          "execution_count": 126,
          "metadata": {},
          "output_type": "execute_result"
        }
      ],
      "source": [
        "from sklearn.ensemble import RandomForestRegressor\n",
        "rf=RandomForestRegressor(n_estimators=100)\n",
        "rf.fit(x_train,y_train)"
      ]
    },
    {
      "cell_type": "code",
      "execution_count": null,
      "id": "2381805b",
      "metadata": {
        "id": "2381805b",
        "outputId": "cfd5f63d-ac4a-405d-ed22-96949b7bab5e"
      },
      "outputs": [
        {
          "data": {
            "text/plain": [
              "array([5.625, 5.625, 5.625, ..., 5.625, 5.625, 5.625])"
            ]
          },
          "execution_count": 127,
          "metadata": {},
          "output_type": "execute_result"
        }
      ],
      "source": [
        "y_predict=rf.predict(x_test)\n",
        "y_predict"
      ]
    },
    {
      "cell_type": "code",
      "execution_count": null,
      "id": "3f2c0f77",
      "metadata": {
        "id": "3f2c0f77",
        "outputId": "f0cccf8a-51a4-47ec-c0d8-692c62727ea4"
      },
      "outputs": [
        {
          "data": {
            "text/plain": [
              "1.0"
            ]
          },
          "execution_count": 128,
          "metadata": {},
          "output_type": "execute_result"
        }
      ],
      "source": [
        "R2_random=r2_score(y_test,y_predict)\n",
        "R2_random"
      ]
    },
    {
      "cell_type": "code",
      "execution_count": null,
      "id": "474f4d1b",
      "metadata": {
        "id": "474f4d1b",
        "outputId": "f7c17275-be47-4586-f495-e605f2d4539e"
      },
      "outputs": [
        {
          "data": {
            "text/plain": [
              "0.0"
            ]
          },
          "execution_count": 134,
          "metadata": {},
          "output_type": "execute_result"
        }
      ],
      "source": [
        "mse_randome=mean_squared_error(y_test,y_predict)\n",
        "mse"
      ]
    },
    {
      "cell_type": "code",
      "execution_count": null,
      "id": "0bc64635",
      "metadata": {
        "id": "0bc64635"
      },
      "outputs": [],
      "source": [
        "rmse=np.sqrt(mse)"
      ]
    },
    {
      "cell_type": "code",
      "execution_count": null,
      "id": "b140dc99",
      "metadata": {
        "id": "b140dc99",
        "outputId": "c505f2e2-8968-4926-a957-22d887a0a230"
      },
      "outputs": [
        {
          "data": {
            "text/plain": [
              "0.0"
            ]
          },
          "execution_count": 136,
          "metadata": {},
          "output_type": "execute_result"
        }
      ],
      "source": [
        "rmse"
      ]
    },
    {
      "cell_type": "code",
      "execution_count": null,
      "id": "6bb06b0d",
      "metadata": {
        "id": "6bb06b0d"
      },
      "outputs": [],
      "source": []
    }
  ],
  "metadata": {
    "kernelspec": {
      "display_name": "Python 3 (ipykernel)",
      "language": "python",
      "name": "python3"
    },
    "language_info": {
      "codemirror_mode": {
        "name": "ipython",
        "version": 3
      },
      "file_extension": ".py",
      "mimetype": "text/x-python",
      "name": "python",
      "nbconvert_exporter": "python",
      "pygments_lexer": "ipython3",
      "version": "3.9.12"
    },
    "colab": {
      "provenance": [],
      "include_colab_link": true
    }
  },
  "nbformat": 4,
  "nbformat_minor": 5
}